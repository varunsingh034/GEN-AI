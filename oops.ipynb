{
 "cells": [
  {
   "cell_type": "code",
   "execution_count": 9,
   "id": "4cb281ab",
   "metadata": {},
   "outputs": [
    {
     "data": {
      "text/plain": [
       "'\\npyhton is object oriented programming language\\nfeatures -- code resuse, scalability , maintainability\\nclass , objectm methodsm constructor\\n\\n4 pillars\\n\\n1. abstraction\\n2. encapsulation\\n3. inheritance -- single , multiple , multi level , hybrid,heirarcical\\n4. polymorphism\\n'"
      ]
     },
     "execution_count": 9,
     "metadata": {},
     "output_type": "execute_result"
    }
   ],
   "source": [
    "'''\n",
    "pyhton is object oriented programming language\n",
    "features -- code resuse, scalability , maintainability\n",
    "class , objectm methodsm constructor\n",
    "\n",
    "4 pillars\n",
    "\n",
    "1. abstraction\n",
    "2. encapsulation\n",
    "3. inheritance -- single , multiple , multi level , hybrid,heirarcical\n",
    "4. polymorphism\n",
    "'''"
   ]
  },
  {
   "cell_type": "code",
   "execution_count": 10,
   "id": "531d359a",
   "metadata": {},
   "outputs": [
    {
     "data": {
      "text/plain": [
       "'\\nclass -- a blueprint for creating bjects\\nobject -- instance of a class\\ninstance -- is a copy of a class that you can use\\n\\nrecipe -- class\\nobject -- real world object\\nhouse -- example\\n'"
      ]
     },
     "execution_count": 10,
     "metadata": {},
     "output_type": "execute_result"
    }
   ],
   "source": [
    "'''\n",
    "class -- a blueprint for creating bjects\n",
    "object -- instance of a class\n",
    "instance -- is a copy of a class that you can use\n",
    "\n",
    "recipe -- class\n",
    "object -- real world object\n",
    "house -- example\n",
    "''' "
   ]
  },
  {
   "cell_type": "code",
   "execution_count": 11,
   "id": "a0f8cc62",
   "metadata": {},
   "outputs": [],
   "source": [
    "class Car:\n",
    "    ## class variable\n",
    "    n1 = 100\n",
    "    n2 = 200\n",
    "    \n",
    "    # function vs method\n",
    "    \n",
    "    def add(self):\n",
    "        print(self.n1 + self.n2)\n",
    "    def display(self):\n",
    "        print(self.n1 , self.n2)"
   ]
  },
  {
   "cell_type": "code",
   "execution_count": 12,
   "id": "3a414ea1",
   "metadata": {},
   "outputs": [
    {
     "name": "stdout",
     "output_type": "stream",
     "text": [
      "300\n",
      "100 200\n"
     ]
    }
   ],
   "source": [
    "# creating a object\n",
    "obj = Car()\n",
    "obj.add()\n",
    "obj.display()"
   ]
  },
  {
   "cell_type": "code",
   "execution_count": 13,
   "id": "9a42e234",
   "metadata": {},
   "outputs": [
    {
     "name": "stdout",
     "output_type": "stream",
     "text": [
      "300\n",
      "100 200\n"
     ]
    }
   ],
   "source": [
    "# constructor -- is a special method that is called when a object is created , it is used to initialize the varables\n",
    "# __ init__\n",
    "\n",
    "\n",
    "class Number:\n",
    "    def __init__(self,a,b):\n",
    "        self.a = a\n",
    "        self.b = b\n",
    "        \n",
    "    \n",
    "    def add(self):\n",
    "            print(self.n1 + self.n2)\n",
    "    def display(self):\n",
    "        print(self.n1 , self.n2)\n",
    "    \n",
    "o = Number(100,200)\n",
    "obj.add()\n",
    "obj.display()"
   ]
  },
  {
   "cell_type": "code",
   "execution_count": 14,
   "id": "6c55a00b",
   "metadata": {},
   "outputs": [
    {
     "name": "stdout",
     "output_type": "stream",
     "text": [
      "bmw audi\n",
      "bmw---audi\n"
     ]
    }
   ],
   "source": [
    "# inheritance -- single , multiple , multi level , hybrid,heirarcical\n",
    "\n",
    "# parent class -- child class\n",
    "# single -- 1 parent and 1 child\n",
    "\n",
    "class Car:\n",
    "    car1 = 'bmw'\n",
    "    car2 = 'audi' \n",
    "    def display(self):\n",
    "        print(self.car1 ,self.car2)\n",
    "\n",
    "class Mcar(Car):\n",
    "    def add(self):\n",
    "        print(self.car1+'---'+self.car2)\n",
    "    def display(self):\n",
    "        print(self.car1 ,self.car2)  \n",
    "        \n",
    "m = Mcar()\n",
    "m.display()\n",
    "m.add()"
   ]
  },
  {
   "cell_type": "code",
   "execution_count": null,
   "id": "7d5b8e5a",
   "metadata": {},
   "outputs": [
    {
     "name": "stdout",
     "output_type": "stream",
     "text": [
      "Alice is driving the car.\n"
     ]
    }
   ],
   "source": [
    "# Multiple classe\n",
    "\n",
    "class Car:\n",
    "    def __init__(self, brand):\n",
    "        self.brand = brand\n",
    "\n",
    "    def drive(self):\n",
    "        print(f\"{self.brand} car is driving.\")\n",
    "\n",
    "class Owner:\n",
    "    def __init__(self, name):\n",
    "        self.name = name\n",
    "\n",
    "    def drive_car(self):\n",
    "        print(f\"{self.name} is driving the car.\")\n",
    "\n",
    "my_car = Car(\"Toyota\")\n",
    "owner = Owner(\"Alice\")\n",
    "owner.drive_car()"
   ]
  },
  {
   "cell_type": "code",
   "execution_count": 18,
   "id": "2afb2fef",
   "metadata": {},
   "outputs": [
    {
     "name": "stdout",
     "output_type": "stream",
     "text": [
      "This is a vehicle.\n",
      "This is a car.\n"
     ]
    }
   ],
   "source": [
    "# Multi-level\n",
    "\n",
    "class Vehicle:\n",
    "    def show(self):\n",
    "        print(\"This is a vehicle.\")\n",
    "\n",
    "class Car(Vehicle):\n",
    "    def car_type(self):\n",
    "        print(\"This is a car.\")\n",
    "\n",
    "class SportsCar(Car):\n",
    "    def brand(self):\n",
    "        print(\"This is a Ferrari.\")\n",
    "\n",
    "# Usage\n",
    "sc = SportsCar()\n",
    "sc.show()        \n",
    "sc.car_type()    \n"
   ]
  },
  {
   "cell_type": "code",
   "execution_count": 17,
   "id": "453de4ad",
   "metadata": {},
   "outputs": [
    {
     "name": "stdout",
     "output_type": "stream",
     "text": [
      "This is the parent class.\n",
      "This is the child class.\n"
     ]
    }
   ],
   "source": [
    "class Parent:\n",
    "    def show(self):\n",
    "        print(\"This is the parent class.\")\n",
    "\n",
    "class Child(Parent):\n",
    "    def show(self):\n",
    "        super().show()  \n",
    "        print(\"This is the child class.\")\n",
    "\n",
    "c = Child()\n",
    "c.show()"
   ]
  },
  {
   "cell_type": "code",
   "execution_count": null,
   "id": "81b2393a",
   "metadata": {},
   "outputs": [],
   "source": []
  }
 ],
 "metadata": {
  "kernelspec": {
   "display_name": "Python 3",
   "language": "python",
   "name": "python3"
  },
  "language_info": {
   "codemirror_mode": {
    "name": "ipython",
    "version": 3
   },
   "file_extension": ".py",
   "mimetype": "text/x-python",
   "name": "python",
   "nbconvert_exporter": "python",
   "pygments_lexer": "ipython3",
   "version": "3.11.9"
  }
 },
 "nbformat": 4,
 "nbformat_minor": 5
}
