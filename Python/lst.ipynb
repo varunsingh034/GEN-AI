{
 "cells": [
  {
   "cell_type": "code",
   "execution_count": 67,
   "id": "16724e9e",
   "metadata": {},
   "outputs": [
    {
     "name": "stdout",
     "output_type": "stream",
     "text": [
      "hello\n"
     ]
    }
   ],
   "source": [
    "print('hello')"
   ]
  },
  {
   "cell_type": "code",
   "execution_count": 68,
   "id": "25d7c677",
   "metadata": {},
   "outputs": [
    {
     "data": {
      "text/plain": [
       "' \\nlist -- collection of items\\nmutablee(changeable)\\nirdered\\nindexed\\nallow duplicate values\\nhetrogeneous ( mixed data types )\\n'"
      ]
     },
     "execution_count": 68,
     "metadata": {},
     "output_type": "execute_result"
    }
   ],
   "source": [
    "''' \n",
    "list -- collection of items\n",
    "mutablee(changeable)\n",
    "irdered\n",
    "indexed\n",
    "allow duplicate values\n",
    "hetrogeneous ( mixed data types )\n",
    "'''"
   ]
  },
  {
   "cell_type": "code",
   "execution_count": 69,
   "id": "080eb65b",
   "metadata": {},
   "outputs": [
    {
     "name": "stdout",
     "output_type": "stream",
     "text": [
      "[1, 2, 'hellow', 5.5, True, 'python']\n",
      "<class 'list'>\n"
     ]
    }
   ],
   "source": [
    "l = [ 1, 2, 'hellow', 5.5, True, \"python\" ]\n",
    "print(l)\n",
    "print(type(l))"
   ]
  },
  {
   "cell_type": "code",
   "execution_count": 70,
   "id": "f25b866c",
   "metadata": {},
   "outputs": [
    {
     "data": {
      "text/plain": [
       "['hellow', 5.5, True, 'python']"
      ]
     },
     "execution_count": 70,
     "metadata": {},
     "output_type": "execute_result"
    }
   ],
   "source": [
    "l[2:6]"
   ]
  },
  {
   "cell_type": "code",
   "execution_count": 71,
   "id": "46a23f7c",
   "metadata": {},
   "outputs": [
    {
     "data": {
      "text/plain": [
       "['python', True, 5.5, 'hellow', 2, 1]"
      ]
     },
     "execution_count": 71,
     "metadata": {},
     "output_type": "execute_result"
    }
   ],
   "source": [
    "l[::-1]"
   ]
  },
  {
   "cell_type": "code",
   "execution_count": 72,
   "id": "82f50e57",
   "metadata": {},
   "outputs": [
    {
     "data": {
      "text/plain": [
       "'python'"
      ]
     },
     "execution_count": 72,
     "metadata": {},
     "output_type": "execute_result"
    }
   ],
   "source": [
    "l[5]"
   ]
  },
  {
   "cell_type": "code",
   "execution_count": 73,
   "id": "90a2a445",
   "metadata": {},
   "outputs": [
    {
     "data": {
      "text/plain": [
       "3"
      ]
     },
     "execution_count": 73,
     "metadata": {},
     "output_type": "execute_result"
    }
   ],
   "source": [
    "l.index(5.5)"
   ]
  },
  {
   "cell_type": "code",
   "execution_count": 74,
   "id": "19397129",
   "metadata": {},
   "outputs": [
    {
     "name": "stdout",
     "output_type": "stream",
     "text": [
      "10.0\n"
     ]
    }
   ],
   "source": [
    "''' \n",
    "type casting -- data type conversion\n",
    "'''\n",
    "\n",
    "a = 10\n",
    "print(float(a))"
   ]
  },
  {
   "cell_type": "code",
   "execution_count": 75,
   "id": "fc90d174",
   "metadata": {},
   "outputs": [
    {
     "name": "stdout",
     "output_type": "stream",
     "text": [
      "6\n"
     ]
    }
   ],
   "source": [
    "'''\n",
    "length -- len() -- no of item in list\n",
    "'''\n",
    "print(len(l))\n"
   ]
  },
  {
   "cell_type": "code",
   "execution_count": 76,
   "id": "e8bc772f",
   "metadata": {},
   "outputs": [],
   "source": [
    "## updating item by the index value\n",
    "lst = ['red','black','blue','red','green']"
   ]
  },
  {
   "cell_type": "code",
   "execution_count": 77,
   "id": "c2bc6502",
   "metadata": {},
   "outputs": [
    {
     "data": {
      "text/plain": [
       "['red', 'green', 'blue', 'red', 'green']"
      ]
     },
     "execution_count": 77,
     "metadata": {},
     "output_type": "execute_result"
    }
   ],
   "source": [
    "lst[1] = 'green'\n",
    "lst"
   ]
  },
  {
   "cell_type": "code",
   "execution_count": 78,
   "id": "2eda131e",
   "metadata": {},
   "outputs": [
    {
     "data": {
      "text/plain": [
       "['red', 'green', 'green', 'blue', 'red', 'green']"
      ]
     },
     "execution_count": 78,
     "metadata": {},
     "output_type": "execute_result"
    }
   ],
   "source": [
    "lst[0:1] = ['red', 'green']\n",
    "lst"
   ]
  },
  {
   "cell_type": "code",
   "execution_count": 79,
   "id": "3815f3f4",
   "metadata": {},
   "outputs": [
    {
     "data": {
      "text/plain": [
       "2"
      ]
     },
     "execution_count": 79,
     "metadata": {},
     "output_type": "execute_result"
    }
   ],
   "source": [
    "lst.count('red')"
   ]
  },
  {
   "cell_type": "code",
   "execution_count": 80,
   "id": "27d975f8",
   "metadata": {},
   "outputs": [
    {
     "data": {
      "text/plain": [
       "0"
      ]
     },
     "execution_count": 80,
     "metadata": {},
     "output_type": "execute_result"
    }
   ],
   "source": [
    "lst.index('red')"
   ]
  },
  {
   "cell_type": "code",
   "execution_count": 81,
   "id": "7c3d7132",
   "metadata": {},
   "outputs": [
    {
     "data": {
      "text/plain": [
       "['red', 'green', 'green', 'blue', 'red', 'green']"
      ]
     },
     "execution_count": 81,
     "metadata": {},
     "output_type": "execute_result"
    }
   ],
   "source": [
    "temp = lst.copy()\n",
    "temp"
   ]
  },
  {
   "cell_type": "code",
   "execution_count": 82,
   "id": "2eb87675",
   "metadata": {},
   "outputs": [
    {
     "data": {
      "text/plain": [
       "['red', 'green', 'green', 'blue', 'red', 'green']"
      ]
     },
     "execution_count": 82,
     "metadata": {},
     "output_type": "execute_result"
    }
   ],
   "source": [
    "# lst.clear() # clear the list\n",
    "lst"
   ]
  },
  {
   "cell_type": "code",
   "execution_count": 83,
   "id": "abb0b31b",
   "metadata": {},
   "outputs": [
    {
     "data": {
      "text/plain": [
       "['red', 'green', 'green', 'blue', 'red', 'green']"
      ]
     },
     "execution_count": 83,
     "metadata": {},
     "output_type": "execute_result"
    }
   ],
   "source": [
    "# del lst  # remove from the memory\n",
    "lst"
   ]
  },
  {
   "cell_type": "code",
   "execution_count": 84,
   "id": "f0d62341",
   "metadata": {},
   "outputs": [
    {
     "data": {
      "text/plain": [
       "['blue', 'green', 'green', 'green', 'red', 'red']"
      ]
     },
     "execution_count": 84,
     "metadata": {},
     "output_type": "execute_result"
    }
   ],
   "source": [
    "lst.sort() # sort a list in assending order\n",
    "lst"
   ]
  },
  {
   "cell_type": "code",
   "execution_count": 85,
   "id": "457f9a24",
   "metadata": {},
   "outputs": [
    {
     "data": {
      "text/plain": [
       "['red', 'red', 'green', 'green', 'green', 'blue']"
      ]
     },
     "execution_count": 85,
     "metadata": {},
     "output_type": "execute_result"
    }
   ],
   "source": [
    "lst.reverse()\n",
    "lst"
   ]
  },
  {
   "cell_type": "code",
   "execution_count": 86,
   "id": "2f71efe7",
   "metadata": {},
   "outputs": [
    {
     "data": {
      "text/plain": [
       "['red', 'red', 'green', 'green', 'green', 'blue', 'indigo']"
      ]
     },
     "execution_count": 86,
     "metadata": {},
     "output_type": "execute_result"
    }
   ],
   "source": [
    "lst.append('indigo') # insert the element at the end\n",
    "lst"
   ]
  },
  {
   "cell_type": "code",
   "execution_count": 87,
   "id": "1103a125",
   "metadata": {},
   "outputs": [
    {
     "data": {
      "text/plain": [
       "['red', 'red', 'green', 'green', 'green', 'blue', 'indigo', 'yellow', 'violet']"
      ]
     },
     "execution_count": 87,
     "metadata": {},
     "output_type": "execute_result"
    }
   ],
   "source": [
    "lst.extend(['yellow','violet']) # insert more than two element in the list at the end\n",
    "lst"
   ]
  },
  {
   "cell_type": "code",
   "execution_count": 88,
   "id": "54485f0a",
   "metadata": {},
   "outputs": [
    {
     "data": {
      "text/plain": [
       "['red',\n",
       " 'red',\n",
       " 'green',\n",
       " 'green',\n",
       " 'cyan',\n",
       " 'green',\n",
       " 'blue',\n",
       " 'indigo',\n",
       " 'yellow',\n",
       " 'violet']"
      ]
     },
     "execution_count": 88,
     "metadata": {},
     "output_type": "execute_result"
    }
   ],
   "source": [
    "lst.insert(4,'cyan') # insert at a specific posistion \n",
    "lst"
   ]
  },
  {
   "cell_type": "code",
   "execution_count": 89,
   "id": "bd023db1",
   "metadata": {},
   "outputs": [
    {
     "data": {
      "text/plain": [
       "['red',\n",
       " 'green',\n",
       " 'green',\n",
       " 'cyan',\n",
       " 'green',\n",
       " 'blue',\n",
       " 'indigo',\n",
       " 'yellow',\n",
       " 'violet']"
      ]
     },
     "execution_count": 89,
     "metadata": {},
     "output_type": "execute_result"
    }
   ],
   "source": [
    "lst.remove('red')\n",
    "lst"
   ]
  },
  {
   "cell_type": "code",
   "execution_count": 90,
   "id": "383672c0",
   "metadata": {},
   "outputs": [
    {
     "data": {
      "text/plain": [
       "'violet'"
      ]
     },
     "execution_count": 90,
     "metadata": {},
     "output_type": "execute_result"
    }
   ],
   "source": [
    "lst.pop()"
   ]
  },
  {
   "cell_type": "code",
   "execution_count": null,
   "id": "530a7b4f",
   "metadata": {},
   "outputs": [],
   "source": []
  }
 ],
 "metadata": {
  "kernelspec": {
   "display_name": "Python 3",
   "language": "python",
   "name": "python3"
  },
  "language_info": {
   "codemirror_mode": {
    "name": "ipython",
    "version": 3
   },
   "file_extension": ".py",
   "mimetype": "text/x-python",
   "name": "python",
   "nbconvert_exporter": "python",
   "pygments_lexer": "ipython3",
   "version": "3.11.9"
  }
 },
 "nbformat": 4,
 "nbformat_minor": 5
}
