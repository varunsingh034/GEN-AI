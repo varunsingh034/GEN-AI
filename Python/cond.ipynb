{
 "cells": [
  {
   "cell_type": "code",
   "execution_count": 12,
   "id": "2ab43c58",
   "metadata": {},
   "outputs": [
    {
     "data": {
      "text/plain": [
       "' \\nif else -- conditional statements -- decision making -- conditionn check\\n\\nif , elif, else\\n'"
      ]
     },
     "execution_count": 12,
     "metadata": {},
     "output_type": "execute_result"
    }
   ],
   "source": [
    "''' \n",
    "if else -- conditional statements -- decision making -- conditionn check\n",
    "\n",
    "if , elif, else\n",
    "'''"
   ]
  },
  {
   "cell_type": "code",
   "execution_count": 13,
   "id": "7cb51fb4",
   "metadata": {},
   "outputs": [
    {
     "name": "stdout",
     "output_type": "stream",
     "text": [
      "b is grateer\n"
     ]
    }
   ],
   "source": [
    "a ,b = 10, 20\n",
    "\n",
    "if a<b:\n",
    "    # indentation\n",
    "    print('b is grateer')\n",
    "\n",
    "else :\n",
    "    print('a is grater')\n",
    "    pass\n",
    "\n",
    "\n",
    "    "
   ]
  },
  {
   "cell_type": "code",
   "execution_count": 14,
   "id": "ab3c82a5",
   "metadata": {},
   "outputs": [
    {
     "name": "stdout",
     "output_type": "stream",
     "text": [
      "a and b are equal\n"
     ]
    }
   ],
   "source": [
    "a ,b = 10, 10\n",
    "\n",
    "if a>b:\n",
    "    # indentation\n",
    "    print('b is grateer')\n",
    "\n",
    "elif a==b :\n",
    "    print('a and b are equal')\n",
    "    pass\n",
    "    \n",
    "else :\n",
    "    print('a is grater')\n",
    "    pass\n"
   ]
  },
  {
   "cell_type": "code",
   "execution_count": 15,
   "id": "e7390a23",
   "metadata": {},
   "outputs": [
    {
     "name": "stdout",
     "output_type": "stream",
     "text": [
      "a is less then b\n",
      "b is less then c\n"
     ]
    }
   ],
   "source": [
    "a, b, c = 10, 20, 30\n",
    "\n",
    "if a>b :\n",
    "    print('a is greater than b')\n",
    "    \n",
    "    if a>b :\n",
    "        print('a is greater than c')\n",
    "        pass\n",
    "    else :\n",
    "        print('a is less then c')\n",
    "        pass\n",
    "    pass\n",
    "else :\n",
    "    print('a is less then b')\n",
    "    if b > c : \n",
    "        print('b is greater than c')\n",
    "        pass\n",
    "    else :\n",
    "        print('b is less then c')\n",
    "        pass\n",
    "    pass\n",
    "\n"
   ]
  },
  {
   "cell_type": "code",
   "execution_count": 18,
   "id": "7011cfd1",
   "metadata": {},
   "outputs": [
    {
     "data": {
      "text/plain": [
       "5"
      ]
     },
     "execution_count": 18,
     "metadata": {},
     "output_type": "execute_result"
    }
   ],
   "source": [
    "a : int = int(input('enter a num'))\n",
    "a"
   ]
  },
  {
   "cell_type": "code",
   "execution_count": 19,
   "id": "b279ed47",
   "metadata": {},
   "outputs": [
    {
     "name": "stdout",
     "output_type": "stream",
     "text": [
      "num is negative\n"
     ]
    }
   ],
   "source": [
    "# check the nuj is negative or positive\n",
    "num : int = int(input('enter a num'))\n",
    "if num > 0 :\n",
    "    print('num is positive')\n",
    "    pass\n",
    "else :\n",
    "    print('num is negative')\n",
    "    pass"
   ]
  },
  {
   "cell_type": "code",
   "execution_count": 24,
   "id": "05e41e86",
   "metadata": {},
   "outputs": [
    {
     "name": "stdout",
     "output_type": "stream",
     "text": [
      "num is valid\n"
     ]
    }
   ],
   "source": [
    "# chech=k if a num is divisible by 5 and 11\n",
    "\n",
    "num : int = int(input('enter a num'))\n",
    "\n",
    "if ((num % 5) == 0) and ((num % 11) == 0) :\n",
    "    print('num is valid')\n",
    "    pass\n",
    "else :\n",
    "    print('num is invalid')\n",
    "    pass\n"
   ]
  },
  {
   "cell_type": "code",
   "execution_count": 29,
   "id": "0d383930",
   "metadata": {},
   "outputs": [
    {
     "name": "stdout",
     "output_type": "stream",
     "text": [
      "char is consonant\n"
     ]
    }
   ],
   "source": [
    "# check if num char is vowel or consonant\n",
    "\n",
    "ch : str = input('enter a char')\n",
    "v : tuple = ('a','e','i','o','u')\n",
    "\n",
    "if ch in v :\n",
    "    print('char is vowel')\n",
    "    pass\n",
    "else :\n",
    "    print('char is consonant')\n",
    "    pass\n"
   ]
  },
  {
   "cell_type": "code",
   "execution_count": null,
   "id": "545360f2",
   "metadata": {},
   "outputs": [],
   "source": []
  }
 ],
 "metadata": {
  "kernelspec": {
   "display_name": "Python 3",
   "language": "python",
   "name": "python3"
  },
  "language_info": {
   "codemirror_mode": {
    "name": "ipython",
    "version": 3
   },
   "file_extension": ".py",
   "mimetype": "text/x-python",
   "name": "python",
   "nbconvert_exporter": "python",
   "pygments_lexer": "ipython3",
   "version": "3.11.9"
  }
 },
 "nbformat": 4,
 "nbformat_minor": 5
}
