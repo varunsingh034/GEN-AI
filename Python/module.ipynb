{
 "cells": [
  {
   "cell_type": "code",
   "execution_count": null,
   "id": "f7ad86aa",
   "metadata": {},
   "outputs": [],
   "source": [
    "# modules vs packages vs lib\n",
    "# module - a single .py file (python file)\n",
    "# package - dir which contain collection of modules\n",
    "# lib - is a collection of packages\n"
   ]
  },
  {
   "cell_type": "code",
   "execution_count": 2,
   "id": "9f5a1104",
   "metadata": {},
   "outputs": [],
   "source": [
    "# module -- types of module \n",
    "# 1. built-in modules -- os,datatime,re\n",
    "# 2. third-party -- pandas,numpy\n",
    "# 3. user_defined "
   ]
  },
  {
   "cell_type": "code",
   "execution_count": 7,
   "id": "4a5c25da",
   "metadata": {},
   "outputs": [],
   "source": [
    "# __init__.py\n",
    "\n",
    "from varun import Test"
   ]
  },
  {
   "cell_type": "code",
   "execution_count": 8,
   "id": "51f17728",
   "metadata": {},
   "outputs": [
    {
     "name": "stdout",
     "output_type": "stream",
     "text": [
      "it is test file\n"
     ]
    }
   ],
   "source": [
    "Test()"
   ]
  },
  {
   "cell_type": "code",
   "execution_count": null,
   "id": "bb8da659",
   "metadata": {},
   "outputs": [],
   "source": []
  }
 ],
 "metadata": {
  "kernelspec": {
   "display_name": "Python 3",
   "language": "python",
   "name": "python3"
  },
  "language_info": {
   "codemirror_mode": {
    "name": "ipython",
    "version": 3
   },
   "file_extension": ".py",
   "mimetype": "text/x-python",
   "name": "python",
   "nbconvert_exporter": "python",
   "pygments_lexer": "ipython3",
   "version": "3.11.9"
  }
 },
 "nbformat": 4,
 "nbformat_minor": 5
}
