{
 "cells": [
  {
   "cell_type": "markdown",
   "id": "f4a2573e",
   "metadata": {},
   "source": [
    "1. How do `if-elif-else` statements work in Python? Provide an example where multiple conditions must be checked and explain the flow of control. \n",
    "- Coding Challenge:Write a function that takes a number as input and returns \"Positive\", \"Negative\", or \"Zero\" based on the input value."
   ]
  },
  {
   "cell_type": "markdown",
   "id": "db3dda98",
   "metadata": {},
   "source": [
    "Ans:\n",
    "\n",
    "In Python, the if-elif-else statement is used to control the flow of a program based on multiple conditions. Only one block of code will be executed—the first one whose condition is True.\n",
    "\n",
    "🔁 Flow of Control:\n",
    "\n",
    "- Python checks the condition in the if statement.\n",
    "\n",
    "- If it's True, that block runs and the rest are skipped.\n",
    "\n",
    "- If it's False, Python checks the next elif condition (you can have multiple elifs).\n",
    "\n",
    "- If none of the if or elif conditions are true, the else block is executed."
   ]
  },
  {
   "cell_type": "code",
   "execution_count": 23,
   "id": "0455c863",
   "metadata": {},
   "outputs": [
    {
     "name": "stdout",
     "output_type": "stream",
     "text": [
      "Positive\n"
     ]
    }
   ],
   "source": [
    "def n_type(num):\n",
    "    if num > 0:\n",
    "        return \"Positive\"\n",
    "    elif num < 0:\n",
    "        return \"Negative\"\n",
    "    else:\n",
    "        return \"Zero\"\n",
    "    \n",
    "print(n_type(7))"
   ]
  },
  {
   "cell_type": "markdown",
   "id": "98b69e55",
   "metadata": {},
   "source": [
    "2.  What is the difference between `for` loops and `while` loops in terms of conditional checks? When would you prefer one over the other? \n",
    "- Coding Challenge:  Write a Python script to print all prime numbers between 1 and 100 using a `for` loop."
   ]
  },
  {
   "cell_type": "markdown",
   "id": "69454000",
   "metadata": {},
   "source": [
    "Ans: \n",
    "\n",
    "for Loop\n",
    "\n",
    "- Used when you know how many times to iterate\n",
    "- Iterates over a sequence (range, list, etc.)\n",
    "- Iteration is handled automatically by Python\n",
    "- Finite, countable iterations (e.g., looping through a list)\n",
    "\n",
    "while Loop\n",
    "\n",
    "- Used when the number of iterations is unknown\n",
    "- Continues as long as a condition is True\n",
    "- You must manually update the condition inside the loop\n",
    "- Open-ended conditions (e.g., waiting for user input)\n"
   ]
  },
  {
   "cell_type": "code",
   "execution_count": null,
   "id": "15ada2ea",
   "metadata": {},
   "outputs": [
    {
     "name": "stdout",
     "output_type": "stream",
     "text": [
      "2 3 5 7  \n",
      "11 13 17 19  \n",
      "23 29  \n",
      "31 37  \n",
      "41 43 47  \n",
      "53 59  \n",
      "61 67  \n",
      "71 73 79  \n",
      "83 89  \n",
      "97  \n"
     ]
    }
   ],
   "source": [
    "def is_prime(n):\n",
    "    if n < 2:\n",
    "        return False\n",
    "    for i in range(2, int(n**0.5) + 1):\n",
    "        if n % i == 0:\n",
    "            return False\n",
    "    return True\n",
    "\n",
    "for num in range(1, 101):\n",
    "    if (num % 10) == 0:\n",
    "                print(' ')\n",
    "    if is_prime(num):\n",
    "        print(num,end=' ')\n",
    "            \n"
   ]
  },
  {
   "cell_type": "markdown",
   "id": "e0f8d7c5",
   "metadata": {},
   "source": [
    "3.  Explain how nested `if` statements work in Python. How can you avoid deep nesting to make your code more readable? \n",
    "-  Coding Challenge:  Write a function that takes three numbers as input and returns the largest of the three using nested `if` statements."
   ]
  },
  {
   "cell_type": "markdown",
   "id": "66a53ddf",
   "metadata": {},
   "source": [
    "Ans:\n",
    "\n",
    "A nested if statement is an if block inside another if block. This allows you to check multiple levels of conditions, where the inner condition is only evaluated if the outer one is True.\n",
    "\n",
    "Problem with Deep Nesting:\n",
    "\n",
    "Can quickly make code hard to read and debug.\n",
    "\n",
    "Example:\n",
    "```\n",
    "if a > 0:\n",
    "    if b > 0:\n",
    "        if c > 0:\n",
    "            print(\"All positive\")`\n",
    "```\n",
    "How to Avoid Deep Nesting\n",
    "\n",
    "- Use logical operators:\n",
    "```\n",
    "if a > 0 and b > 0 and c > 0:\n",
    "    print(\"All positive\")\n",
    "```\n",
    "- Early returns in functions:\n",
    "\n",
    "```\n",
    "if not a > 0:\n",
    "    return\n",
    "if not b > 0:\n",
    "    return\n",
    "if not c > 0:\n",
    "    return\n",
    "print(\"All positive\")\n",
    "```\n",
    "- Break into helper functions for clarity."
   ]
  },
  {
   "cell_type": "code",
   "execution_count": null,
   "id": "e974239b",
   "metadata": {},
   "outputs": [
    {
     "name": "stdout",
     "output_type": "stream",
     "text": [
      "20\n"
     ]
    }
   ],
   "source": [
    "def find_largest(a, b, c):\n",
    "    if a >= b:\n",
    "        if a >= c:\n",
    "            return a\n",
    "        else:\n",
    "            return c\n",
    "    else:\n",
    "        if b >= c:\n",
    "            return b\n",
    "        else:\n",
    "            return c\n",
    "\n",
    "print(find_largest(10, 20, 15))\n"
   ]
  },
  {
   "cell_type": "markdown",
   "id": "e517a07c",
   "metadata": {},
   "source": [
    "4.  What are the potential risks of using `break` in loops? How does it affect loop execution and what alternatives can you use? \n",
    "-  Coding Challenge:  Write a Python program that reads numbers from the user until they input a negative number. The program should then print the sum of all positive numbers entered."
   ]
  },
  {
   "cell_type": "markdown",
   "id": "4377e930",
   "metadata": {},
   "source": [
    "Ans:\n",
    "\n",
    "The break statement in Python is used to immediately exit a loop—for or while—even if the loop condition is still True.\n",
    "\n",
    "- It may confuse readers if used in the middle of complex logic.\n",
    "- Might skip essential cleanup or steps after the loop.\n",
    "- Makes debugging or modifying the code harder if overused."
   ]
  },
  {
   "cell_type": "code",
   "execution_count": null,
   "id": "8d3b6267",
   "metadata": {},
   "outputs": [
    {
     "name": "stdout",
     "output_type": "stream",
     "text": [
      "Sum of positive numbers: 0\n"
     ]
    }
   ],
   "source": [
    "def sum_positive_numbers():\n",
    "    total = 0\n",
    "    while True:\n",
    "        num = int(input(\"Enter a number (negative to stop): \"))\n",
    "        if num < 0:\n",
    "            break\n",
    "        total += num\n",
    "    print(\"Sum of positive numbers:\", total)\n",
    "\n",
    "sum_positive_numbers()\n"
   ]
  },
  {
   "cell_type": "markdown",
   "id": "f81cb1d8",
   "metadata": {},
   "source": [
    "5.  How does the `else` clause in a loop work, and how does it differ from the `else` in conditional statements? \n",
    "-  Coding Challenge:  Write a function that searches for a specific element in a list using a `for` loop. If the element is found, return its index; if not, return -1 using the `else` clause in the loop."
   ]
  },
  {
   "cell_type": "markdown",
   "id": "53a92726",
   "metadata": {},
   "source": [
    "Ans:\n",
    "\n",
    "else in Conditional Statements:\n",
    "Used with if to define what to do if the if condition is False.\n",
    "\n",
    "```\n",
    "if x > 0:\n",
    "    print(\"Positive\")\n",
    "else:\n",
    "    print(\"Not positive\")\n",
    "\n",
    "```\n",
    "\n",
    "else in Loops (for or while):\n",
    "Executes only if the loop completes normally (i.e., not exited via break).\n",
    "\n",
    "Commonly used when searching for something and want to handle the \"not found\" case.\n",
    "\n",
    "```\n",
    "for i in range(5):\n",
    "    if i == 3:\n",
    "        print(\"Found!\")\n",
    "        break\n",
    "else:\n",
    "    print(\"Not Found!\")  # Only prints if `break` wasn't triggered\n",
    "```"
   ]
  },
  {
   "cell_type": "code",
   "execution_count": null,
   "id": "3b15a6b2",
   "metadata": {},
   "outputs": [
    {
     "name": "stdout",
     "output_type": "stream",
     "text": [
      "2\n",
      "-1\n"
     ]
    }
   ],
   "source": [
    "def search_element(lst, target):\n",
    "    for index, value in enumerate(lst):\n",
    "        if value == target:\n",
    "            return index\n",
    "    else:\n",
    "        return -1\n",
    "\n",
    "print(search_element([10, 20, 30, 40], 30))  # Output: 2\n",
    "print(search_element([10, 20, 30, 40], 50))  # Output: -1\n"
   ]
  },
  {
   "cell_type": "markdown",
   "id": "f222afc7",
   "metadata": {},
   "source": [
    "6.  What is a common pitfall when using floating-point numbers in conditional statements? How can you avoid it? \n",
    "-  Coding Challenge:  Write a Python function that compares two floating-point numbers and returns `True` if they are approximately equal, considering a small tolerance value."
   ]
  },
  {
   "cell_type": "markdown",
   "id": "71b842b2",
   "metadata": {},
   "source": [
    "Ans:\n",
    "\n",
    "Common Pitfall with Floating-Point Numbers in Conditionals\n",
    "Pitfall: Precision Errors\n",
    "- Floating-point numbers are represented imprecisely in binary, so direct equality checks like:\n",
    "\n",
    "    if a == b:\n",
    "\n",
    "- may fail even when the values look the same due to tiny rounding errors.\n",
    "\n",
    "    print(0.1 + 0.2 == 0.3)  # Output: False 😲\n",
    "\n",
    "- This is because 0.1 + 0.2 results in 0.30000000000000004 internally."
   ]
  },
  {
   "cell_type": "code",
   "execution_count": null,
   "id": "52e06a35",
   "metadata": {},
   "outputs": [
    {
     "name": "stdout",
     "output_type": "stream",
     "text": [
      "True\n",
      "True\n",
      "False\n"
     ]
    }
   ],
   "source": [
    "def approximately_equal(a, b, tolerance=1e-9):\n",
    "    return abs(a - b) < tolerance\n",
    "\n",
    "print(approximately_equal(0.1 + 0.2, 0.3))\n",
    "print(approximately_equal(1.00000000000002, 1.0))\n",
    "print(approximately_equal(1.0001, 1.0))\n"
   ]
  },
  {
   "cell_type": "markdown",
   "id": "9655ed75",
   "metadata": {},
   "source": [
    "7.  How can you combine `for` loops and `if` statements to filter and process data in Python? \n",
    "-  Coding Challenge:  Given a list of integers, write a Python program that uses a `for` loop and `if` statements to create a new list containing only the even numbers."
   ]
  },
  {
   "cell_type": "markdown",
   "id": "db2a040c",
   "metadata": {},
   "source": [
    "Ans:\n",
    "\n",
    "Combining for Loops and if Statements in Python\n",
    "\n",
    "- In Python, for loops and if statements are commonly combined to filter, process, and transform data.\n",
    "\n",
    "```\n",
    "result = []\n",
    "for item in data:\n",
    "    if condition(item):\n",
    "        result.append(processed_item)\n",
    "```"
   ]
  },
  {
   "cell_type": "code",
   "execution_count": null,
   "id": "0038986c",
   "metadata": {},
   "outputs": [
    {
     "name": "stdout",
     "output_type": "stream",
     "text": [
      "[2, 4, 6, 8, 10]\n"
     ]
    }
   ],
   "source": [
    "def filter_even_numbers(numbers):\n",
    "    even_numbers = []\n",
    "    for num in numbers:\n",
    "        if num % 2 == 0:\n",
    "            even_numbers.append(num)\n",
    "    return even_numbers\n",
    "\n",
    "nums = [1, 2, 3, 4, 5, 6, 7, 8, 9, 10]\n",
    "print(filter_even_numbers(nums))\n"
   ]
  },
  {
   "cell_type": "markdown",
   "id": "a05726f6",
   "metadata": {},
   "source": [
    "8.  Discuss the concept of short-circuit evaluation in Python. How does it affect the performance of conditional statements? \n",
    "-  Coding Challenge:  Write a function that takes three boolean values and returns `True` if at least two of them are `True`, using short-circuit evaluation."
   ]
  },
  {
   "cell_type": "markdown",
   "id": "3820fa83",
   "metadata": {},
   "source": [
    "Ans:\n",
    "\n",
    "Concept of Short-Circuit Evaluation in Python\n",
    "\n",
    "- Short-circuit evaluation is a performance optimization in logical expressions where Python stops evaluating as soon as the result is determined.\n",
    "\n",
    "How It Works:\n",
    "\n",
    "and operator:\n",
    "\n",
    "- Stops and returns False if any operand is False.\n",
    "\n",
    "Example:\n",
    "```\n",
    "False and print(\"Won't run\")  # Nothing is printed\n",
    "```\n",
    "\n",
    "or operator:\n",
    "\n",
    "- Stops and returns True if any operand is True.\n",
    "\n",
    "Example:\n",
    "```\n",
    "True or print(\"Won't run\")  # Nothing is printed\n",
    "```\n",
    "\n"
   ]
  },
  {
   "cell_type": "code",
   "execution_count": null,
   "id": "1fb4e2e4",
   "metadata": {},
   "outputs": [
    {
     "name": "stdout",
     "output_type": "stream",
     "text": [
      "True\n",
      "False\n",
      "True\n"
     ]
    }
   ],
   "source": [
    "def at_least_two_true(a, b, c):\n",
    "    return (a and b) or (a and c) or (b and c)\n",
    "\n",
    "print(at_least_two_true(True, True, False))\n",
    "print(at_least_two_true(True, False, False))\n",
    "print(at_least_two_true(True, True, True))\n"
   ]
  },
  {
   "cell_type": "markdown",
   "id": "9aa94d7f",
   "metadata": {},
   "source": [
    "9.  Explain how the `continue` statement works in a loop. What are some scenarios where using `continue` is more beneficial than restructuring the loop? \n",
    "-  Coding Challenge:  Write a Python program that iterates through a list of numbers and prints only those numbers that are divisible by 3, using the `continue` statement."
   ]
  },
  {
   "cell_type": "markdown",
   "id": "1c051c09",
   "metadata": {},
   "source": [
    "Ans:\n",
    "\n",
    "Understanding the continue Statement in Python\n",
    "\n",
    "The continue statement is used inside loops to:\n",
    "\n",
    "- Skip the current iteration, and\n",
    "- Jump to the next loop cycle immediately.\n",
    "\n",
    "It’s the opposite of break, which exits the loop completely.\n",
    "\n",
    "```\n",
    "for i in range(5):\n",
    "    if i == 2:\n",
    "        continue\n",
    "    print(i)\n",
    "```\n",
    "\n",
    "🤔 When is continue Beneficial?\n",
    "\n",
    "✅ You want to skip specific values or cases but still loop over the rest.\n",
    "\n",
    "✅ Avoids deep nesting with multiple if statements.\n",
    "\n",
    "✅ Makes code cleaner and more readable when used well"
   ]
  },
  {
   "cell_type": "code",
   "execution_count": null,
   "id": "4f948688",
   "metadata": {},
   "outputs": [
    {
     "name": "stdout",
     "output_type": "stream",
     "text": [
      "3\n",
      "6\n",
      "9\n",
      "12\n"
     ]
    }
   ],
   "source": [
    "def print_divisible_by_three(numbers):\n",
    "    for num in numbers:\n",
    "        if num % 3 != 0:\n",
    "            continue\n",
    "        print(num)\n",
    "\n",
    "nums = [1, 3, 4, 6, 8, 9, 10, 12]\n",
    "print_divisible_by_three(nums)\n"
   ]
  },
  {
   "cell_type": "markdown",
   "id": "6a49b19d",
   "metadata": {},
   "source": [
    "10.  How can you use list comprehensions in combination with conditional statements to make your code more concise? \n",
    "-  Coding Challenge:  Write a list comprehension that generates a list of squares of all even numbers between 1 and 20."
   ]
  },
  {
   "cell_type": "markdown",
   "id": "77c3b10e",
   "metadata": {},
   "source": [
    "Ans:\n",
    "\n",
    "List comprehensions in Python allow you to create new lists from existing sequences in a single, readable line.\n",
    "\n",
    "You can include an if clause directly in the comprehension to filter elements.\n",
    "\n",
    "Syntax of List Comprehension with if:\n",
    "\n",
    "[expression for item in iterable if condition]\n",
    "\n",
    "```\n",
    "result = []\n",
    "for item in iterable:\n",
    "    if condition:\n",
    "        result.append(expression)\n",
    "```\n",
    "\n",
    "Why Use It?\n",
    "\n",
    "- More concise than traditional for loops.\n",
    "- Easier to read for simple filtering and transformation.\n",
    "- Runs faster in many cases due to Python internals."
   ]
  },
  {
   "cell_type": "code",
   "execution_count": 41,
   "id": "79b2c1b2",
   "metadata": {},
   "outputs": [
    {
     "name": "stdout",
     "output_type": "stream",
     "text": [
      "[4, 16, 36, 64, 100, 144, 196, 256, 324, 400]\n"
     ]
    }
   ],
   "source": [
    "squares_of_even = [x**2 for x in range(1, 21) if x % 2 == 0]\n",
    "print(squares_of_even)\n"
   ]
  }
 ],
 "metadata": {
  "kernelspec": {
   "display_name": "Python 3",
   "language": "python",
   "name": "python3"
  },
  "language_info": {
   "codemirror_mode": {
    "name": "ipython",
    "version": 3
   },
   "file_extension": ".py",
   "mimetype": "text/x-python",
   "name": "python",
   "nbconvert_exporter": "python",
   "pygments_lexer": "ipython3",
   "version": "3.11.9"
  }
 },
 "nbformat": 4,
 "nbformat_minor": 5
}
