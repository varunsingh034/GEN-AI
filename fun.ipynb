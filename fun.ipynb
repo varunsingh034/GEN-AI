{
 "cells": [
  {
   "cell_type": "code",
   "execution_count": 1,
   "id": "9171693f",
   "metadata": {},
   "outputs": [
    {
     "data": {
      "text/plain": [
       "'\\nfunction -- block of code that performs a specific task\\n1 -- buil in function -- predefined\\n2 -- user defined function\\n3 -- anon ymous func -- lambda func\\n4 -- map , reduce , filter , enumerate\\n'"
      ]
     },
     "execution_count": 1,
     "metadata": {},
     "output_type": "execute_result"
    }
   ],
   "source": [
    "'''\n",
    "function -- block of code that performs a specific task\n",
    "1 -- buil in function -- predefined\n",
    "2 -- user defined function\n",
    "3 -- anon ymous func -- lambda func\n",
    "4 -- map , reduce , filter , enumerate\n",
    "'''"
   ]
  },
  {
   "cell_type": "code",
   "execution_count": 2,
   "id": "30650df6",
   "metadata": {},
   "outputs": [
    {
     "name": "stdout",
     "output_type": "stream",
     "text": [
      "hello from func\n"
     ]
    }
   ],
   "source": [
    "def hello() -> None :\n",
    "    print('hello from func')\n",
    "    pass\n",
    "\n",
    "hello()"
   ]
  },
  {
   "cell_type": "code",
   "execution_count": 3,
   "id": "25fb1fb3",
   "metadata": {},
   "outputs": [],
   "source": [
    "# def sum( a , b ):\n",
    "#     return a+b\n",
    "\n",
    "# sum(5.5,6)"
   ]
  },
  {
   "cell_type": "code",
   "execution_count": 4,
   "id": "fca3ee9f",
   "metadata": {},
   "outputs": [
    {
     "name": "stdout",
     "output_type": "stream",
     "text": [
      "the kids ('1', '2', '4')\n"
     ]
    }
   ],
   "source": [
    "## arbitary arguments -- *args\n",
    "## jab hame nhi pata func me kitne argument pass honge\n",
    "\n",
    "def family(*kids):\n",
    "    print('the kids',kids)\n",
    "    pass\n",
    "\n",
    "family('1','2','4')"
   ]
  },
  {
   "cell_type": "code",
   "execution_count": 5,
   "id": "40109f23",
   "metadata": {},
   "outputs": [
    {
     "name": "stdout",
     "output_type": "stream",
     "text": [
      "the kids tobi\n"
     ]
    }
   ],
   "source": [
    "# keyword argument\n",
    "\n",
    "def fam(ch1,ch2,ch3):\n",
    "    print('the kids', ch2)\n",
    "    pass\n",
    "\n",
    "fam(ch1 = 'emil', ch2 = 'tobi' , ch3 = 'lin')"
   ]
  },
  {
   "cell_type": "code",
   "execution_count": 6,
   "id": "8b503c40",
   "metadata": {},
   "outputs": [
    {
     "name": "stdout",
     "output_type": "stream",
     "text": [
      "the kids {'ch1': 'emil', 'ch2': 'tobi', 'ch3': 'lin'}\n"
     ]
    }
   ],
   "source": [
    "# arbitary keyword arguments -- **kwargs\n",
    "\n",
    "def family(**kids):\n",
    "    print('the kids' , kids)\n",
    "    \n",
    "family(ch1 = 'emil', ch2 = 'tobi' , ch3 = 'lin')"
   ]
  },
  {
   "cell_type": "code",
   "execution_count": 7,
   "id": "e2775601",
   "metadata": {},
   "outputs": [
    {
     "name": "stdout",
     "output_type": "stream",
     "text": [
      "my fav sport is chess\n"
     ]
    }
   ],
   "source": [
    "# default parameter values\n",
    "\n",
    "def sport(sport = 'chess'):\n",
    "    \n",
    "    print('my fav sport is',sport )\n",
    "    pass\n",
    "\n",
    "sport()"
   ]
  },
  {
   "cell_type": "code",
   "execution_count": 8,
   "id": "a619ea6d",
   "metadata": {},
   "outputs": [
    {
     "name": "stdout",
     "output_type": "stream",
     "text": [
      "20.0\n"
     ]
    }
   ],
   "source": [
    "## average func\n",
    "\n",
    "def avg(value):\n",
    "    print(sum(value)/ len(value))\n",
    "\n",
    "avg([10,20,30])"
   ]
  },
  {
   "cell_type": "code",
   "execution_count": 13,
   "id": "6e4eec6c",
   "metadata": {},
   "outputs": [
    {
     "name": "stdout",
     "output_type": "stream",
     "text": [
      "40\n"
     ]
    }
   ],
   "source": [
    "## print the ;=largest num\n",
    "\n",
    "def lar(a,b,c):\n",
    "    \n",
    "    if a>b:\n",
    "        if a>c :\n",
    "            print(a)\n",
    "            pass\n",
    "        else :\n",
    "            print(c)\n",
    "            pass\n",
    "        pass\n",
    "    else :\n",
    "        if b>c :\n",
    "            print(b)\n",
    "            pass\n",
    "        else :\n",
    "            print(c)\n",
    "            pass\n",
    "        pass\n",
    "    pass\n",
    "\n",
    "\n",
    "\n",
    "lar(1,40,3)"
   ]
  },
  {
   "cell_type": "code",
   "execution_count": null,
   "id": "04f13a47",
   "metadata": {},
   "outputs": [],
   "source": [
    "# lambda function -- small anonymous function"
   ]
  }
 ],
 "metadata": {
  "kernelspec": {
   "display_name": "Python 3",
   "language": "python",
   "name": "python3"
  },
  "language_info": {
   "codemirror_mode": {
    "name": "ipython",
    "version": 3
   },
   "file_extension": ".py",
   "mimetype": "text/x-python",
   "name": "python",
   "nbconvert_exporter": "python",
   "pygments_lexer": "ipython3",
   "version": "3.11.9"
  }
 },
 "nbformat": 4,
 "nbformat_minor": 5
}
