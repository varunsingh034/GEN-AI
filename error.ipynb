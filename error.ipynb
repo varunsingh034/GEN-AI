{
 "cells": [
  {
   "cell_type": "code",
   "execution_count": 19,
   "id": "f5ccd5d6",
   "metadata": {},
   "outputs": [
    {
     "name": "stdout",
     "output_type": "stream",
     "text": [
      "Error = list index out of range\n",
      "success finally\n"
     ]
    }
   ],
   "source": [
    "## exception handling -- error handling in python\n",
    "\n",
    "## 4 types of block -- try, except, else, finally\n",
    "\n",
    "# try --- code that might cause an error\n",
    "# except -- code to handle the error\n",
    "# else -- code to execute if no error\n",
    "# finally -- code to execute regardless of error\n",
    "\n",
    "try:\n",
    "    l = [1,2,3]\n",
    "    print(l[5])\n",
    "except Exception as e: ## as -- alias(nickname)\n",
    "    print('Error =',e)\n",
    "    pass\n",
    "else:\n",
    "    print('no error')\n",
    "    pass\n",
    "finally:\n",
    "    print('success finally')\n",
    "    pass"
   ]
  },
  {
   "cell_type": "code",
   "execution_count": null,
   "id": "7bc1963d",
   "metadata": {},
   "outputs": [],
   "source": []
  }
 ],
 "metadata": {
  "kernelspec": {
   "display_name": "Python 3",
   "language": "python",
   "name": "python3"
  },
  "language_info": {
   "codemirror_mode": {
    "name": "ipython",
    "version": 3
   },
   "file_extension": ".py",
   "mimetype": "text/x-python",
   "name": "python",
   "nbconvert_exporter": "python",
   "pygments_lexer": "ipython3",
   "version": "3.11.9"
  }
 },
 "nbformat": 4,
 "nbformat_minor": 5
}
