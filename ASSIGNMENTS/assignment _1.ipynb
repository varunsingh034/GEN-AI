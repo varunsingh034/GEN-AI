{
 "cells": [
  {
   "cell_type": "markdown",
   "id": "2ba857f0",
   "metadata": {},
   "source": [
    "# 1. How do lists and tuples differ in terms of mutability and performance? When would you choose one over the other?"
   ]
  },
  {
   "cell_type": "markdown",
   "id": "7ad2a5ac",
   "metadata": {},
   "source": [
    "Ans:\n",
    "\n",
    "Mutability:\n",
    "\n",
    "    Lists are mutable: This means that after a list is created, you can change its contents. You can add, remove, or modify elements within the list.\n",
    "\n",
    "    Tuples are immutable: Once a tuple is created, its contents cannot be changed. You cannot add, remove, or modify elements. If you need a modified version of a tuple, you'll have to create a new tuple.\n",
    "\n",
    "When to Choose One Over the Other:\n",
    "    List:\n",
    "\n",
    "    You need a collection of items that can change over time. This is the most common use case for lists.\n",
    "\n",
    "    You need to perform frequent additions, deletions, or modifications of elements.\n",
    "\n",
    "    Tuple:\n",
    "\n",
    "    You need an immutable collection of items. This means the data should not be changed after creation\n",
    "\n",
    "    Performance and memory efficiency are critical, especially for large, unchanging datasets."
   ]
  },
  {
   "cell_type": "markdown",
   "id": "6df28ef5",
   "metadata": {},
   "source": [
    "# 2. Explain how Python handles type conversion between different data types, such as between integers and floats or between strings and lists."
   ]
  },
  {
   "cell_type": "markdown",
   "id": "6a64ac50",
   "metadata": {},
   "source": [
    "Ans: \n",
    "Python handles converting data between different types in two ways:\n",
    "\n",
    "Implicit Conversion (Automatic): \n",
    "\n",
    "    Python automatically converts data types when it makes sense and won't lead to data loss. This often happens in mathematical operations, like when an integer and a float are involved – the integer becomes a float.\n",
    "\n",
    "    Example: 5 + 2.0 results in 7.0 (integer 5 implicitly becomes 5.0).\n",
    "\n",
    "Explicit Conversion (Manual): \n",
    "    \n",
    "    You directly tell Python to convert a value using built-in functions like int(), float(), str(), list(), tuple(), and set(). This gives you control, but you must ensure the conversion is valid (e.g., you can't convert \"hello\" to an integer).\n",
    "\n",
    "    Example: int(\"10\") converts the string \"10\" to the integer 10. list(\"abc\") converts the string \"abc\" to ['a', 'b', 'c']."
   ]
  },
  {
   "cell_type": "markdown",
   "id": "37d82b0e",
   "metadata": {},
   "source": [
    "# 3. What are the key differences between Python’s `list`, `set`, and `dictionary` data types? Provide examples of scenarios where each would be the most appropriate choice."
   ]
  },
  {
   "cell_type": "markdown",
   "id": "fbf697b5",
   "metadata": {},
   "source": [
    "Ans:\n",
    "\n",
    "List\n",
    "\n",
    "    Definition: An ordered, mutable collection of items.\n",
    "    \n",
    "    Key Characteristics:\n",
    "        Ordered: Elements maintain their insertion order.\n",
    "        Mutable: You can add, remove, or change elements after creation.\n",
    "        Allows Duplicates: Can contain multiple identical elements.\n",
    "        Indexed Access: Elements are accessed by their numerical index (starting from 0).\n",
    "\n",
    "    Syntax: Defined using square brackets [].\n",
    "    Example: [1, 2, 'apple', 3.14]\n",
    "\n",
    "Scenarios where list is the most appropriate choice:\n",
    "\n",
    "    1. Maintaining an ordered sequence of items\n",
    "    2. When you need to frequently modify the collection\n",
    "    3. When duplicate items are allowed and relevan\n",
    "\n",
    "Set\n",
    "\n",
    "    Definition: An unordered, mutable collection of unique items.\n",
    "    \n",
    "    Key Characteristics:\n",
    "    \n",
    "        Unordered: Elements do not maintain any specific order.\n",
    "        Mutable: You can add or remove elements after creation.\n",
    "        No Duplicates: Automatically removes duplicate elements. Each element must be unique\n",
    "        and hashable (immutable like numbers, strings, tuples).    \n",
    "        No Indexed Access: You cannot access elements by index.\n",
    "    \n",
    "    Syntax: Defined using curly braces {} or the set() constructor. \n",
    "    Note: An empty {} creates an empty dictionary, not an empty set; use set() for an empty set.\n",
    "    Example: {1, 2, 'banana', 'apple'}\n",
    "\n",
    "Scenarios where set is the most appropriate choice:\n",
    "\n",
    "    1. Storing a collection of unique items\n",
    "    2. Performing mathematical set operations efficiently\n",
    "    3. Quickly checking for existence of an item\n",
    "\n",
    "Dictionary\n",
    "\n",
    "    Definition: An unordered, mutable collection of key-value pairs.\n",
    "    \n",
    "    Key Characteristics:\n",
    "    \n",
    "        Unordered (pre-Python 3.7): Elements did not maintain insertion order.\n",
    "        Ordered (Python 3.7+ guarantee): Since Python 3.7, dictionaries maintain insertion order.\n",
    "        Mutable: You can add, remove, or change key-value pairs.\n",
    "        Unique Keys: Each key must be unique and hashable (immutable). Values can be duplicates and of any type.\n",
    "        Key-based Access: Elements are accessed by their unique keys, not by numerical index.\n",
    "    \n",
    "    Syntax: Defined using curly braces {} with key: value pairs.\n",
    "    Example: {'name': 'Alice', 'age': 30, 'city': 'New York'}\n",
    "\n",
    "Scenarios where dictionary is the most appropriate choice:\n",
    "\n",
    "    1. Storing data in a key-value associative manner\n",
    "    2. Quickly retrieving values based on a unique identifier\n",
    "    3. When you need to link related pieces of information"
   ]
  },
  {
   "cell_type": "markdown",
   "id": "69527b61",
   "metadata": {},
   "source": [
    "# 4. Discuss the role of the `__repr__` and `__str__` methods in custom data types. How do they differ, and when should you implement them?"
   ]
  },
  {
   "cell_type": "markdown",
   "id": "9372883e",
   "metadata": {},
   "source": [
    "Ans:\n",
    "\n",
    "`__repr__` (Representation)\n",
    "\n",
    "    __repr__ provides the official, unambiguous string representation of an object, primarily for developers. Its goal is to show how the object could be recreated or to give a highly detailed, technical view of its state. You'll see this when you type an object in the Python interpreter directly or use repr().\n",
    "\n",
    "    Audience: Developers (for debugging, inspection).\n",
    "    Goal: Unambiguous, detailed, ideally recreatable object representation.\n",
    "    Called by: repr(), interactive interpreter (typing object name), container printing.\n",
    "\n",
    "\n",
    "`__str__` (String)\n",
    "\n",
    "    __str__ provides the informal, human-readable string representation of an object, primarily for end-users. Its goal is to be concise and easy to understand, often omitting technical details for clarity. This is what print() and str() use.\n",
    "\n",
    "    Audience: End-users (for display, readability).\n",
    "    Goal: Human-readable, concise, user-friendly representation.\n",
    "    Called by: str(), print(), f-strings, format().\n"
   ]
  },
  {
   "cell_type": "markdown",
   "id": "b4afec41",
   "metadata": {},
   "source": [
    "# 5. How does Python handle large integers? Explain the difference between `int` in Python 2 and Python 3."
   ]
  },
  {
   "cell_type": "markdown",
   "id": "ae1e2a6f",
   "metadata": {},
   "source": [
    "Ans:\n",
    "\n",
    "Python excels at handling large integers because its int type supports arbitrary precision. This means an integer's size is only limited by your system's memory, not by a fixed number of bits. It achieves this using a variable-length representation and dynamic memory allocation for digits, allowing calculations with numbers of virtually any length.\n",
    "\n",
    "Python 2 had two integer types:\n",
    "int: Fixed-size (like 32-bit or 64-bit).\n",
    "long: Arbitrary precision. Python 2 automatically converted int to long when numbers got too big.\n",
    "\n",
    "Python 3 simplified this by having only one int type, which is the arbitrary-precision type. There's no longer a separate long type, making integer handling more straightforward and eliminating overflow concerns."
   ]
  },
  {
   "cell_type": "markdown",
   "id": "a4e18d34",
   "metadata": {},
   "source": [
    "# 6. What is the difference between the `+=` operator and the `+` operator in Python when used with mutable and immutable types?"
   ]
  },
  {
   "cell_type": "markdown",
   "id": "8e190ea5",
   "metadata": {},
   "source": [
    "Ans:\n",
    "\n",
    "When it comes to += `vs` + in Python, the key difference lies in mutability.\n",
    "\n",
    "The + operator always creates a new object. If you add two numbers or concatenate two strings, a completely new number or string is made, leaving the originals untouched. This is true whether the types are mutable or immutable.\n",
    "\n",
    "Conversely, the += operator's behavior depends on the type. For mutable types like lists, += often modifies the object in place, meaning no new object is created in memory; the original list just gets bigger. However, for immutable types like integers or strings, += acts just like +: it creates a new object and then reassigns the variable to point to this new object. So, my_string += 'a' actually creates a new string, unlike my_list += [1] which extends the existing list."
   ]
  },
  {
   "cell_type": "markdown",
   "id": "dc20e031",
   "metadata": {},
   "source": [
    "# 7. Explain the purpose and use of the `in` operator in Python. How does it behave differently when used with different data types, such as strings, lists, and dictionaries?"
   ]
  },
  {
   "cell_type": "markdown",
   "id": "ad3299fb",
   "metadata": {},
   "source": [
    "Ans:\n",
    "\n",
    "The in operator in Python is a membership operator used to test if a specified value is present within a sequence or collection. It returns True if the value is found, and False otherwise.\n",
    "\n",
    "1. Strings\n",
    "When used with strings, the in operator checks if a substring exists within the string. It performs a substring search.\n",
    "\n",
    "2. Lists and Tuples (and other sequences like range)\n",
    "When used with lists, tuples, or other sequences, the in operator checks if an exact element is present in the sequence. It looks for a direct match of the entire element.\n",
    "\n",
    "3. Dictionaries\n",
    "When used with dictionaries, the in operator checks for the presence of a key, not a value.\n",
    "\n",
    "4. Sets\n",
    "When used with sets, the in operator checks if an exact element is present in the set. Like lists/tuples, it looks for a direct match."
   ]
  },
  {
   "cell_type": "markdown",
   "id": "daf3b264",
   "metadata": {},
   "source": [
    "# 8. How do the bitwise operators (`&`, `|`, `^`, `~`, `<<`, `>>`) work in Python? Provide examples of their usage."
   ]
  },
  {
   "cell_type": "markdown",
   "id": "c8feb929",
   "metadata": {},
   "source": [
    "Ans:\n",
    "\n",
    "1. Bitwise AND (&)\n",
    "Operation: Performs a logical AND on each corresponding bit. If both bits are 1, the result is 1; otherwise, it's 0.\n",
    "\n",
    "Example:\n",
    "\n",
    "A = 10  # 0000 1010 <br>\n",
    "B = 12  # 0000 1100<br>\n",
    "result = A & B <br>\n",
    "print(result) # Output: 8 (0000 1000)\n",
    "\n",
    "2. Bitwise OR (|)\n",
    "Operation: Performs a logical OR on each corresponding bit. If at least one bit is 1, the result is 1; otherwise, it's 0.\n",
    "\n",
    "Example:\n",
    "\n",
    "A = 10  # 0000 1010 <br>\n",
    "B = 12  # 0000 1100 <br>\n",
    "result = A | B <br>\n",
    "print(result) # Output: 14 (0000 1110)\n",
    "\n",
    "3. Bitwise XOR (^) (Exclusive OR)\n",
    "Operation: Performs a logical XOR on each corresponding bit. If the bits are different, the result is 1; if they are the same, the result is 0.\n",
    "\n",
    "Example:\n",
    "\n",
    "A = 10  # 0000 1010 <br>\n",
    "B = 12  # 0000 1100 <br>\n",
    "result = A ^ B <br>\n",
    "print(result) # Output: 6 (0000 0110)\n",
    "\n",
    "4. Bitwise NOT (~) (Complement)\n",
    "Operation: Inverts all the bits of a number. 0 becomes 1, and 1 becomes 0.\n",
    "Python uses two's complement representation for negative numbers. The result of ~x is equivalent to −(x+1).\n",
    "\n",
    "Example:\n",
    "\n",
    "C = 5  # 0000 0101 <br>\n",
    "result = ~C <br>\n",
    "print(result) # Output: -6\n",
    "\n",
    "5. Left Shift (<<)\n",
    "Operation: Shifts the bits of a number to the left by a specified number of positions. Zeroes are shifted in from the right.\n",
    "\n",
    "Example:\n",
    "\n",
    "A = 10  # 0000 1010 <br>\n",
    "result = A << 2 # Shift left by 2 bits <br>\n",
    "print(result) # Output: 40 (0010 1000) <br>\n",
    "\n",
    "6. Right Shift (>>)\n",
    "Operation: Shifts the bits of a number to the right by a specified number of positions.\n",
    "\n",
    "Example:\n",
    "\n",
    "A = 10  # 0000 1010 <br>\n",
    "result = A >> 2 # Shift right by 2 bits <br>\n",
    "print(result) # Output: 2 (0000 0010) <br>\n",
    "\n",
    "Example with negative number<br>\n",
    "neg_num = -10 # ...11110110 in 2's complement <br>\n",
    "result_neg = neg_num >> 2 <br>\n",
    "print(result_neg) # Output: -3 (Effectively -10 // 4 = -3)"
   ]
  },
  {
   "cell_type": "markdown",
   "id": "e1c6b50f",
   "metadata": {},
   "source": [
    "# 9. What are augmented assignment operators, and how do they work in Python? Give examples with `+=`, `-=`, and `*=`."
   ]
  },
  {
   "cell_type": "markdown",
   "id": "cdbd10f0",
   "metadata": {},
   "source": [
    "Ans:\n",
    "\n",
    "Augmented assignment operators in Python are a concise way to combine an arithmetic or bitwise operation with an assignment. They allow you to perform an operation on a variable and then store the result back into the same variable, all in one step.\n",
    "\n",
    "The general syntax is variable op= expression, which is equivalent to variable = variable op expression.\n",
    "\n",
    "1. += (Add and Assign)\n",
    "\n",
    "item_count = 5 <br>\n",
    "item_count += 3 # Adds 3 to item_count (item_count becomes 8)<br>\n",
    "print(item_count) # Output: 8 <br>\n",
    "\n",
    "2. -= (Subtract and Assign)\n",
    "\n",
    "remaining_balance = 100 <br>\n",
    "remaining_balance -= 20 # Subtracts 20 from <br> remaining_balance (remaining_balance becomes 80) <br>\n",
    "print(remaining_balance) # Output: 80 <br>\n",
    "\n",
    "3. *= (Multiply and Assign)\n",
    "\n",
    "total_score = 10 <br>\n",
    "total_score *= 2 # Multiplies total_score by 2 (total_score becomes 20) <br>\n",
    "print(total_score) # Output: 20 <br>"
   ]
  },
  {
   "cell_type": "markdown",
   "id": "748dc8b1",
   "metadata": {},
   "source": [
    "# 10. How does Python’s `is` operator differ from `==`, especially in terms of comparing lists, strings, and other complex data types?\n"
   ]
  },
  {
   "cell_type": "markdown",
   "id": "c8bf10e6",
   "metadata": {},
   "source": [
    "Ans:\n",
    "\n",
    "The is and == operators in Python are both used for comparison, but they serve fundamentally different purposes:\n",
    "\n",
    "    is operator: Compares identity. It checks if two variables refer to the exact same object in memory.\n",
    "\n",
    "    == operator: Compares equality. It checks if two variables have the same value."
   ]
  }
 ],
 "metadata": {
  "kernelspec": {
   "display_name": "Python 3",
   "language": "python",
   "name": "python3"
  },
  "language_info": {
   "codemirror_mode": {
    "name": "ipython",
    "version": 3
   },
   "file_extension": ".py",
   "mimetype": "text/x-python",
   "name": "python",
   "nbconvert_exporter": "python",
   "pygments_lexer": "ipython3",
   "version": "3.11.9"
  }
 },
 "nbformat": 4,
 "nbformat_minor": 5
}
