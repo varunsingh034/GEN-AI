{
 "cells": [
  {
   "cell_type": "code",
   "execution_count": 39,
   "id": "a72c2ae4",
   "metadata": {},
   "outputs": [
    {
     "name": "stdout",
     "output_type": "stream",
     "text": [
      "{2, 3, 4, 'HELLO', 'world'}\n"
     ]
    }
   ],
   "source": [
    "s = { 1,2,3,4}\n",
    "s.add('hello')\n",
    "s.update(['HELLO','world'])\n",
    "s.remove('hello')\n",
    "s.pop()\n",
    "s.discard('war')\n",
    "print(s)"
   ]
  },
  {
   "cell_type": "code",
   "execution_count": 40,
   "id": "82e59037",
   "metadata": {},
   "outputs": [],
   "source": [
    "a = {1,2,3,4,5,6,7}\n",
    "b = {2,4,6,8,0}"
   ]
  },
  {
   "cell_type": "code",
   "execution_count": 41,
   "id": "f58019de",
   "metadata": {},
   "outputs": [
    {
     "name": "stdout",
     "output_type": "stream",
     "text": [
      "{0, 1, 2, 3, 4, 5, 6, 7, 8}\n"
     ]
    }
   ],
   "source": [
    "print(a.union(b)) # print the unique element"
   ]
  },
  {
   "cell_type": "code",
   "execution_count": 42,
   "id": "abeb89c0",
   "metadata": {},
   "outputs": [
    {
     "name": "stdout",
     "output_type": "stream",
     "text": [
      "{2, 4, 6}\n"
     ]
    }
   ],
   "source": [
    "print(a.intersection(b)) # print the common elelment"
   ]
  },
  {
   "cell_type": "code",
   "execution_count": 43,
   "id": "24400a65",
   "metadata": {},
   "outputs": [
    {
     "name": "stdout",
     "output_type": "stream",
     "text": [
      "{1, 3, 5, 7}\n"
     ]
    }
   ],
   "source": [
    "print(a.difference(b)) # a-b "
   ]
  },
  {
   "cell_type": "code",
   "execution_count": 44,
   "id": "d394418b",
   "metadata": {},
   "outputs": [
    {
     "name": "stdout",
     "output_type": "stream",
     "text": [
      "{0, 1, 3, 5, 7, 8}\n"
     ]
    }
   ],
   "source": [
    "print(a.symmetric_difference(b)) # print uncommon elements"
   ]
  },
  {
   "cell_type": "code",
   "execution_count": 45,
   "id": "91b77059",
   "metadata": {},
   "outputs": [],
   "source": [
    "a = {1,3,5}\n",
    "b = {1,2,3,4,5,6}"
   ]
  },
  {
   "cell_type": "code",
   "execution_count": 46,
   "id": "dbaa24b3",
   "metadata": {},
   "outputs": [
    {
     "name": "stdout",
     "output_type": "stream",
     "text": [
      "True\n"
     ]
    }
   ],
   "source": [
    "print(a.issubset(b)) # check the subset"
   ]
  },
  {
   "cell_type": "code",
   "execution_count": 47,
   "id": "bd0375f4",
   "metadata": {},
   "outputs": [
    {
     "name": "stdout",
     "output_type": "stream",
     "text": [
      "True\n"
     ]
    }
   ],
   "source": [
    "print(b.issuperset(a)) # check if one set contain all element of other"
   ]
  },
  {
   "cell_type": "code",
   "execution_count": 48,
   "id": "44480a5b",
   "metadata": {},
   "outputs": [
    {
     "name": "stdout",
     "output_type": "stream",
     "text": [
      "False\n"
     ]
    }
   ],
   "source": [
    "print(a.isdisjoint(b)) # check if all set contain unique elements"
   ]
  },
  {
   "cell_type": "code",
   "execution_count": 49,
   "id": "a696966d",
   "metadata": {},
   "outputs": [],
   "source": [
    "a = {1,2,3}\n",
    "b = {2,3,4}"
   ]
  },
  {
   "cell_type": "code",
   "execution_count": 50,
   "id": "05bba208",
   "metadata": {},
   "outputs": [],
   "source": [
    "a.intersection_update(b) # update the elememt with intersection values"
   ]
  },
  {
   "cell_type": "code",
   "execution_count": 51,
   "id": "81bcae57",
   "metadata": {},
   "outputs": [
    {
     "data": {
      "text/plain": [
       "{2, 3}"
      ]
     },
     "execution_count": 51,
     "metadata": {},
     "output_type": "execute_result"
    }
   ],
   "source": [
    "a"
   ]
  },
  {
   "cell_type": "code",
   "execution_count": null,
   "id": "45da9ce8",
   "metadata": {},
   "outputs": [],
   "source": []
  }
 ],
 "metadata": {
  "kernelspec": {
   "display_name": "Python 3",
   "language": "python",
   "name": "python3"
  },
  "language_info": {
   "codemirror_mode": {
    "name": "ipython",
    "version": 3
   },
   "file_extension": ".py",
   "mimetype": "text/x-python",
   "name": "python",
   "nbconvert_exporter": "python",
   "pygments_lexer": "ipython3",
   "version": "3.11.9"
  }
 },
 "nbformat": 4,
 "nbformat_minor": 5
}
