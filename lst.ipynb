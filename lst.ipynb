{
 "cells": [
  {
   "cell_type": "code",
   "execution_count": 2,
   "id": "16724e9e",
   "metadata": {},
   "outputs": [
    {
     "name": "stdout",
     "output_type": "stream",
     "text": [
      "hello\n"
     ]
    }
   ],
   "source": [
    "print('hello')"
   ]
  },
  {
   "cell_type": "code",
   "execution_count": 3,
   "id": "25d7c677",
   "metadata": {},
   "outputs": [
    {
     "data": {
      "text/plain": [
       "' \\nlist -- collection of items\\nmutablee(changeable)\\nirdered\\nindexed\\nallow duplicate values\\nhetrogeneous ( mixed data types )\\n'"
      ]
     },
     "execution_count": 3,
     "metadata": {},
     "output_type": "execute_result"
    }
   ],
   "source": [
    "''' \n",
    "list -- collection of items\n",
    "mutablee(changeable)\n",
    "irdered\n",
    "indexed\n",
    "allow duplicate values\n",
    "hetrogeneous ( mixed data types )\n",
    "'''"
   ]
  },
  {
   "cell_type": "code",
   "execution_count": 6,
   "id": "080eb65b",
   "metadata": {},
   "outputs": [
    {
     "name": "stdout",
     "output_type": "stream",
     "text": [
      "[1, 2, 'hellow', 5.5, True, 'python']\n",
      "<class 'list'>\n"
     ]
    }
   ],
   "source": [
    "l = [ 1, 2, 'hellow', 5.5, True, \"python\" ]\n",
    "print(l)\n",
    "print(type(l))"
   ]
  },
  {
   "cell_type": "code",
   "execution_count": 9,
   "id": "f25b866c",
   "metadata": {},
   "outputs": [
    {
     "data": {
      "text/plain": [
       "['hellow', 5.5, True, 'python']"
      ]
     },
     "execution_count": 9,
     "metadata": {},
     "output_type": "execute_result"
    }
   ],
   "source": [
    "l[2:6]"
   ]
  },
  {
   "cell_type": "code",
   "execution_count": 10,
   "id": "46a23f7c",
   "metadata": {},
   "outputs": [
    {
     "data": {
      "text/plain": [
       "['python', True, 5.5, 'hellow', 2, 1]"
      ]
     },
     "execution_count": 10,
     "metadata": {},
     "output_type": "execute_result"
    }
   ],
   "source": [
    "l[::-1]"
   ]
  },
  {
   "cell_type": "code",
   "execution_count": 12,
   "id": "82f50e57",
   "metadata": {},
   "outputs": [
    {
     "data": {
      "text/plain": [
       "'python'"
      ]
     },
     "execution_count": 12,
     "metadata": {},
     "output_type": "execute_result"
    }
   ],
   "source": [
    "l[5]"
   ]
  },
  {
   "cell_type": "code",
   "execution_count": 13,
   "id": "90a2a445",
   "metadata": {},
   "outputs": [
    {
     "data": {
      "text/plain": [
       "3"
      ]
     },
     "execution_count": 13,
     "metadata": {},
     "output_type": "execute_result"
    }
   ],
   "source": [
    "l.index(5.5)"
   ]
  },
  {
   "cell_type": "code",
   "execution_count": null,
   "id": "19397129",
   "metadata": {},
   "outputs": [],
   "source": []
  }
 ],
 "metadata": {
  "kernelspec": {
   "display_name": "Python 3",
   "language": "python",
   "name": "python3"
  },
  "language_info": {
   "codemirror_mode": {
    "name": "ipython",
    "version": 3
   },
   "file_extension": ".py",
   "mimetype": "text/x-python",
   "name": "python",
   "nbconvert_exporter": "python",
   "pygments_lexer": "ipython3",
   "version": "3.11.9"
  }
 },
 "nbformat": 4,
 "nbformat_minor": 5
}
