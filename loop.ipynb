{
 "cells": [
  {
   "cell_type": "code",
   "execution_count": 4,
   "id": "75f7fccc",
   "metadata": {},
   "outputs": [
    {
     "name": "stdout",
     "output_type": "stream",
     "text": [
      "p y t h o n "
     ]
    }
   ],
   "source": [
    "## for , while\n",
    "## statment -- break and continue\n",
    "\n",
    "## for loop -- iterating over asequence\n",
    "\n",
    "# seq - list, tuple, string\n",
    "\n",
    "s = 'python'\n",
    "\n",
    "for i in s:\n",
    "    print(i,end=' ')\n",
    "\n",
    "# i -- is temporary variable\n",
    " "
   ]
  },
  {
   "cell_type": "code",
   "execution_count": 6,
   "id": "3ebc6a1d",
   "metadata": {},
   "outputs": [
    {
     "name": "stdout",
     "output_type": "stream",
     "text": [
      "red\n",
      "RED\n",
      "black\n",
      "BLACK\n",
      "green\n",
      "GREEN\n",
      "yellow\n",
      "YELLOW\n",
      "cyan\n",
      "CYAN\n"
     ]
    }
   ],
   "source": [
    "l = ['red','black','green','yellow','cyan']\n",
    "for i in l:\n",
    "    print(i)\n",
    "    print(i.upper())\n",
    "    pass\n"
   ]
  },
  {
   "cell_type": "code",
   "execution_count": 13,
   "id": "ac5f60a2",
   "metadata": {},
   "outputs": [
    {
     "name": "stdout",
     "output_type": "stream",
     "text": [
      "red 1\n",
      "black 2\n",
      "cyan 3\n"
     ]
    }
   ],
   "source": [
    "d = {\n",
    "    'red' : 1,\n",
    "    'black' : 2,\n",
    "    'cyan' : 3 \n",
    "}\n",
    "\n",
    "for i , j in d.items():\n",
    "    print(i , j)"
   ]
  },
  {
   "cell_type": "code",
   "execution_count": 26,
   "id": "d5df0087",
   "metadata": {},
   "outputs": [
    {
     "name": "stdout",
     "output_type": "stream",
     "text": [
      "[1, 4, 9, 16, 25, 36, 49, 64, 81, 100, 121, 144, 169, 196, 225, 256, 289, 324, 361, 400]\n"
     ]
    }
   ],
   "source": [
    "## squre function -- list -- o/p ilst\n",
    "\n",
    "def squre(l:list):\n",
    "    temp = []\n",
    "    for i in l:\n",
    "        temp.append(i*i)\n",
    "    return temp\n",
    "print(squre([1,2,3,4,5,6,7,8,9,10,11,12,13,14,15,16,17,18,19,20]))"
   ]
  },
  {
   "cell_type": "code",
   "execution_count": 27,
   "id": "2664621f",
   "metadata": {},
   "outputs": [
    {
     "name": "stdout",
     "output_type": "stream",
     "text": [
      "1\n",
      "2\n",
      "3\n",
      "4\n"
     ]
    }
   ],
   "source": [
    "## break statment \n",
    "\n",
    "for i in range(1,10 + 1):\n",
    "    if i == 5:\n",
    "        break\n",
    "    print(i)\n",
    "    pass\n"
   ]
  }
 ],
 "metadata": {
  "kernelspec": {
   "display_name": "Python 3",
   "language": "python",
   "name": "python3"
  },
  "language_info": {
   "codemirror_mode": {
    "name": "ipython",
    "version": 3
   },
   "file_extension": ".py",
   "mimetype": "text/x-python",
   "name": "python",
   "nbconvert_exporter": "python",
   "pygments_lexer": "ipython3",
   "version": "3.11.9"
  }
 },
 "nbformat": 4,
 "nbformat_minor": 5
}
